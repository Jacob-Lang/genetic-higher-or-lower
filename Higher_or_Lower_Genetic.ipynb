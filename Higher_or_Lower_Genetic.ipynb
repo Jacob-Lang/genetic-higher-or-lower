{
 "cells": [
  {
   "cell_type": "markdown",
   "metadata": {},
   "source": [
    "# Higher or Lower: Genetic Algorithm\n",
    "\n",
    "\"Guess a number between 1 and 100\" ... \"no it's higher than that\" ... \"no it's lower than that\" ... \"yes you got it!\"\n",
    "We all know this game of higher or lower and it's pretty easy to work out the best strategy for guessing the number as quickly as possible - namely you want to guess halway between the bounds each time. Here we'll see if we can get a computer to work that out for itself... using a genetic algorithms.\n",
    "\n",
    "## Have a go\n",
    "First of all have a go at the game yourself:"
   ]
  },
  {
   "cell_type": "code",
   "execution_count": 1,
   "metadata": {},
   "outputs": [],
   "source": [
    "import gameClassPractice as HOL\n",
    "import matplotlib.pyplot as plt\n",
    "import numpy as np"
   ]
  },
  {
   "cell_type": "code",
   "execution_count": 2,
   "metadata": {},
   "outputs": [
    {
     "name": "stdout",
     "output_type": "stream",
     "text": [
      "Pick a number between 1 and 100:\n",
      "50\n",
      "Nope. You need to go lower.\n",
      "Pick a number between 1 and 49:\n",
      "25\n",
      "Nope. You need to go higher.\n",
      "Pick a number between 26 and 49:\n",
      "40\n",
      "YES! CONGRATULATIONS! THE NUMBER WAS  40\n",
      "You got the answer correct after 3 guesses.\n"
     ]
    }
   ],
   "source": [
    "game = HOL.Game()\n",
    "game.playGame()"
   ]
  },
  {
   "cell_type": "markdown",
   "metadata": {},
   "source": [
    "How did you do?\n",
    "\n",
    "# Let the computer have a go\n",
    "\n",
    "It is not too hard to write a programme that will play the game for us. We just have to tell it to choose a number between the current bounds. Here are three methods: \n",
    "1. Choose a number randomly between the bounds - \"computer_random\"\n",
    "2. Choose a number halway between the bounds - \"computer_bifurcate\"\n",
    "3. Choose the smallest number possible - \"computer_bad\"\n",
    "\n",
    "\n",
    "How will they cope:"
   ]
  },
  {
   "cell_type": "code",
   "execution_count": 3,
   "metadata": {
    "scrolled": true
   },
   "outputs": [
    {
     "name": "stdout",
     "output_type": "stream",
     "text": [
      "Pick a number between 1 and 100:\n",
      "72\n",
      "Nope. You need to go higher.\n",
      "Pick a number between 73 and 100:\n",
      "86\n",
      "Nope. You need to go higher.\n",
      "Pick a number between 87 and 100:\n",
      "97\n",
      "Nope. You need to go lower.\n",
      "Pick a number between 87 and 96:\n",
      "95\n",
      "Nope. You need to go lower.\n",
      "Pick a number between 87 and 94:\n",
      "94\n",
      "Nope. You need to go lower.\n",
      "Pick a number between 87 and 93:\n",
      "88\n",
      "Nope. You need to go higher.\n",
      "Pick a number between 89 and 93:\n",
      "89\n",
      "Nope. You need to go higher.\n",
      "Pick a number between 90 and 93:\n",
      "93\n",
      "YES! CONGRATULATIONS! THE NUMBER WAS  93\n",
      "You got the answer correct after 8 guesses.\n"
     ]
    }
   ],
   "source": [
    "game = HOL.Game()\n",
    "game.method = \"computer_random\"\n",
    "game.playGame()"
   ]
  },
  {
   "cell_type": "code",
   "execution_count": 4,
   "metadata": {},
   "outputs": [
    {
     "name": "stdout",
     "output_type": "stream",
     "text": [
      "Pick a number between 1 and 100:\n",
      "50\n",
      "Nope. You need to go higher.\n",
      "Pick a number between 51 and 100:\n",
      "76\n",
      "Nope. You need to go lower.\n",
      "Pick a number between 51 and 75:\n",
      "63\n",
      "Nope. You need to go higher.\n",
      "Pick a number between 64 and 75:\n",
      "70\n",
      "Nope. You need to go lower.\n",
      "Pick a number between 64 and 69:\n",
      "66\n",
      "Nope. You need to go lower.\n",
      "Pick a number between 64 and 65:\n",
      "64\n",
      "Nope. You need to go higher.\n",
      "Pick a number between 65 and 65:\n",
      "65\n",
      "YES! CONGRATULATIONS! THE NUMBER WAS  65\n",
      "You got the answer correct after 7 guesses.\n"
     ]
    }
   ],
   "source": [
    "game = HOL.Game()\n",
    "game.method = \"computer_bifurcate\"\n",
    "game.playGame()"
   ]
  },
  {
   "cell_type": "code",
   "execution_count": 5,
   "metadata": {},
   "outputs": [
    {
     "name": "stdout",
     "output_type": "stream",
     "text": [
      "Pick a number between 1 and 100:\n",
      "1\n",
      "Nope. You need to go higher.\n",
      "Pick a number between 2 and 100:\n",
      "2\n",
      "Nope. You need to go higher.\n",
      "Pick a number between 3 and 100:\n",
      "3\n",
      "Nope. You need to go higher.\n",
      "Pick a number between 4 and 100:\n",
      "4\n",
      "Nope. You need to go higher.\n",
      "Pick a number between 5 and 100:\n",
      "5\n",
      "Nope. You need to go higher.\n",
      "Pick a number between 6 and 100:\n",
      "6\n",
      "Nope. You need to go higher.\n",
      "Pick a number between 7 and 100:\n",
      "7\n",
      "Nope. You need to go higher.\n",
      "Pick a number between 8 and 100:\n",
      "8\n",
      "Nope. You need to go higher.\n",
      "Pick a number between 9 and 100:\n",
      "9\n",
      "Nope. You need to go higher.\n",
      "Pick a number between 10 and 100:\n",
      "10\n",
      "Nope. You need to go higher.\n",
      "Pick a number between 11 and 100:\n",
      "11\n",
      "Nope. You need to go higher.\n",
      "Pick a number between 12 and 100:\n",
      "12\n",
      "Nope. You need to go higher.\n",
      "Pick a number between 13 and 100:\n",
      "13\n",
      "Nope. You need to go higher.\n",
      "Pick a number between 14 and 100:\n",
      "14\n",
      "Nope. You need to go higher.\n",
      "Pick a number between 15 and 100:\n",
      "15\n",
      "Nope. You need to go higher.\n",
      "Pick a number between 16 and 100:\n",
      "16\n",
      "Nope. You need to go higher.\n",
      "Pick a number between 17 and 100:\n",
      "17\n",
      "Nope. You need to go higher.\n",
      "Pick a number between 18 and 100:\n",
      "18\n",
      "Nope. You need to go higher.\n",
      "Pick a number between 19 and 100:\n",
      "19\n",
      "Nope. You need to go higher.\n",
      "Pick a number between 20 and 100:\n",
      "20\n",
      "Nope. You need to go higher.\n",
      "Pick a number between 21 and 100:\n",
      "21\n",
      "Nope. You need to go higher.\n",
      "Pick a number between 22 and 100:\n",
      "22\n",
      "Nope. You need to go higher.\n",
      "Pick a number between 23 and 100:\n",
      "23\n",
      "Nope. You need to go higher.\n",
      "Pick a number between 24 and 100:\n",
      "24\n",
      "Nope. You need to go higher.\n",
      "Pick a number between 25 and 100:\n",
      "25\n",
      "Nope. You need to go higher.\n",
      "Pick a number between 26 and 100:\n",
      "26\n",
      "Nope. You need to go higher.\n",
      "Pick a number between 27 and 100:\n",
      "27\n",
      "Nope. You need to go higher.\n",
      "Pick a number between 28 and 100:\n",
      "28\n",
      "Nope. You need to go higher.\n",
      "Pick a number between 29 and 100:\n",
      "29\n",
      "Nope. You need to go higher.\n",
      "Pick a number between 30 and 100:\n",
      "30\n",
      "Nope. You need to go higher.\n",
      "Pick a number between 31 and 100:\n",
      "31\n",
      "Nope. You need to go higher.\n",
      "Pick a number between 32 and 100:\n",
      "32\n",
      "Nope. You need to go higher.\n",
      "Pick a number between 33 and 100:\n",
      "33\n",
      "YES! CONGRATULATIONS! THE NUMBER WAS  33\n",
      "You got the answer correct after 33 guesses.\n"
     ]
    }
   ],
   "source": [
    "game = HOL.Game()\n",
    "game.method = \"computer_bad\"\n",
    "game.playGame()"
   ]
  },
  {
   "cell_type": "markdown",
   "metadata": {},
   "source": [
    "How did they do? As we start with a span of only 100 numbers the random method is not much worse than the bifurcation method. But lets get the computer to play the game many times with each method and look at some statistics. "
   ]
  },
  {
   "cell_type": "code",
   "execution_count": 6,
   "metadata": {},
   "outputs": [],
   "source": [
    "# play the game many times with each method.store no. guesses to win. \n",
    "game = HOL.Game()\n",
    "game.narrate = \"False\" # this turns off the commentary\n",
    "\n",
    "Nrepeats = 100\n",
    "methods = [\"computer_random\", \"computer_bifurcate\", \"computer_bad\"]\n",
    "nguesses = np.zeros((len(methods),Nrepeats))  # store our guesses here.\n",
    "\n",
    "\n",
    "for method_number, method in enumerate(methods):\n",
    "    game.method = method\n",
    "    for i in range(Nrepeats):\n",
    "        game.playGame()\n",
    "        nguesses[method_number, i] = len(game.guesses) \n",
    "        game.reset()\n",
    "\n",
    "mean_nguesses = np.mean(nguesses, 1)"
   ]
  },
  {
   "cell_type": "code",
   "execution_count": 7,
   "metadata": {},
   "outputs": [
    {
     "data": {
      "image/png": "[encoded data removed]",
      "text/plain": [
       "<matplotlib.figure.Figure at 0x15060d1f400>"
      ]
     },
     "metadata": {},
     "output_type": "display_data"
    }
   ],
   "source": [
    "colors = ['r', 'b', 'g']\n",
    "for method_number in range(len(methods)):\n",
    "    plt.hist(nguesses[method_number,  :], bins = range(20), alpha = 0.5, label = methods[method_number], color  = colors[method_number])\n",
    "    plt.plot([mean_nguesses[method_number], mean_nguesses[method_number]], [0, Nrepeats/2], color  = colors[method_number], linestyle = '--', linewidth=2)\n",
    "plt.legend()\n",
    "plt.title(\"Histogram of number of guesses taken after \" + str(Nrepeats) +  \" plays.\")\n",
    "plt.xlabel(\"Number of guesses taken\")\n",
    "plt.ylabel(\"Count\")\n",
    "plt.xlim([0,20])\n",
    "plt.show()"
   ]
  },
  {
   "cell_type": "markdown",
   "metadata": {},
   "source": [
    "Here we have played the game many times and each time counted how many guesses it took until the computer guessed correctly. This is plotted in the histogram above. The dashed line represents the average (mean) number of guesses it tool.\n",
    "\n",
    "The different methods have different results with the bifurcation method clearly outperfoming the other two methods. Now let's use a genetic algorithm to let the computer decide a method for itself.\n",
    "\n",
    "## Genetic approach\n",
    "\n",
    "We can define a method for this game by a list of ratios, $$\\text{method}= [r_1, r_2, r_3, ...],$$ where $r_i$ is just a random number between 0 and 1. For the $i$th guess when asked to choose a number between the upper bound, $u$, and the lower bound, $l$, the computer will choose $$\\text{guess}_i = l + r_i(u - l).$$\n",
    "\n",
    "Here is an example of how the method will run\n",
    "\n"
   ]
  },
  {
   "cell_type": "code",
   "execution_count": 8,
   "metadata": {},
   "outputs": [
    {
     "name": "stdout",
     "output_type": "stream",
     "text": [
      "Pick a number between 1 and 100:\n",
      "50\n",
      "Nope. You need to go lower.\n",
      "Pick a number between 1 and 49:\n",
      "1\n",
      "Nope. You need to go higher.\n",
      "Pick a number between 2 and 49:\n",
      "37\n",
      "Nope. You need to go lower.\n",
      "Pick a number between 2 and 36:\n",
      "QUIT\n"
     ]
    }
   ],
   "source": [
    "game = HOL.Game()\n",
    "game.method = [0.5, 0.01, 0.75]\n",
    "game.playGame()"
   ]
  },
  {
   "cell_type": "markdown",
   "metadata": {},
   "source": [
    "When the method is out of guesses it quits the game. \n",
    "\n",
    "Clearly for the bifurcation method $r_i = 0.5,  \\  \\forall \\  i$ and for the random method $r_i$ is random. In our genetic algorithm we will start from the random method and see if it will evolve into the superior bifurcation method. Here are the steps:\n",
    "\n",
    "1. Our first generation of methods has a population size of 100 and each method in the population consists of a single random guess.\n",
    "2. We play the Higher or Lower game 100 times with each method and define the fitness of the method as the mean distance away from the target number -- here we expect guesses around $r_i = 0.5$ to do the best.\n",
    "3. We select the top 20 methods to proceed and evolve them into a subsequent generation of 100 methods. The evolution proceeds via:\n",
    "- mutating:  $r_i$ is multiplied by a random number x\n",
    "- growing/shrinking: the method gains or loses an element. \n",
    "- mating: two methods are spliced creating two offspring\n",
    "- survival: some methods proceed without change. \n",
    "4. The process is repeated with this new generation."
   ]
  },
  {
   "cell_type": "code",
   "execution_count": 9,
   "metadata": {},
   "outputs": [
    {
     "name": "stderr",
     "output_type": "stream",
     "text": [
      "C:\\Users\\Jacob\\Dropbox\\Not Syncing\\gameClassPractice.py:82: FutureWarning: elementwise comparison failed; returning scalar instead, but in the future will perform elementwise comparison\n",
      "  if self.method == \"human\":\n",
      "C:\\Users\\Jacob\\Dropbox\\Not Syncing\\gameClassPractice.py:93: FutureWarning: elementwise comparison failed; returning scalar instead, but in the future will perform elementwise comparison\n",
      "  elif self.method == \"computer_random\":   # randomly guesses within bounds\n",
      "C:\\Users\\Jacob\\Dropbox\\Not Syncing\\gameClassPractice.py:97: FutureWarning: elementwise comparison failed; returning scalar instead, but in the future will perform elementwise comparison\n",
      "  elif self.method == \"computer_bifurcate\":  # picks a number halfway between bounds\n",
      "C:\\Users\\Jacob\\Dropbox\\Not Syncing\\gameClassPractice.py:101: FutureWarning: elementwise comparison failed; returning scalar instead, but in the future will perform elementwise comparison\n",
      "  elif self.method == \"computer_bad\":  #just picks the lower bound.\n"
     ]
    },
    {
     "ename": "TypeError",
     "evalue": "type numpy.ndarray doesn't define __round__ method",
     "output_type": "error",
     "traceback": [
      "\u001b[1;31m---------------------------------------------------------------------------\u001b[0m",
      "\u001b[1;31mTypeError\u001b[0m                                 Traceback (most recent call last)",
      "\u001b[1;32m<ipython-input-9-004a372cd2e0>\u001b[0m in \u001b[0;36m<module>\u001b[1;34m()\u001b[0m\n\u001b[0;32m     16\u001b[0m         \u001b[0mgame\u001b[0m\u001b[1;33m.\u001b[0m\u001b[0mmethod\u001b[0m \u001b[1;33m=\u001b[0m \u001b[0mmethod\u001b[0m\u001b[1;33m\u001b[0m\u001b[0m\n\u001b[0;32m     17\u001b[0m         \u001b[1;32mfor\u001b[0m \u001b[0mi\u001b[0m \u001b[1;32min\u001b[0m \u001b[0mrange\u001b[0m\u001b[1;33m(\u001b[0m\u001b[0mNrepeats\u001b[0m\u001b[1;33m)\u001b[0m\u001b[1;33m:\u001b[0m\u001b[1;33m\u001b[0m\u001b[0m\n\u001b[1;32m---> 18\u001b[1;33m             \u001b[0mgame\u001b[0m\u001b[1;33m.\u001b[0m\u001b[0mplayGame\u001b[0m\u001b[1;33m(\u001b[0m\u001b[1;33m)\u001b[0m\u001b[1;33m\u001b[0m\u001b[0m\n\u001b[0m\u001b[0;32m     19\u001b[0m             \u001b[0mnguesses\u001b[0m\u001b[1;33m[\u001b[0m\u001b[0mngen\u001b[0m\u001b[1;33m,\u001b[0m \u001b[0mmethod_number\u001b[0m\u001b[1;33m,\u001b[0m \u001b[0mi\u001b[0m\u001b[1;33m]\u001b[0m \u001b[1;33m=\u001b[0m \u001b[0mlen\u001b[0m\u001b[1;33m(\u001b[0m\u001b[0mgame\u001b[0m\u001b[1;33m.\u001b[0m\u001b[0mguesses\u001b[0m\u001b[1;33m)\u001b[0m\u001b[1;33m\u001b[0m\u001b[0m\n\u001b[0;32m     20\u001b[0m             \u001b[0mgame\u001b[0m\u001b[1;33m.\u001b[0m\u001b[0mreset\u001b[0m\u001b[1;33m(\u001b[0m\u001b[1;33m)\u001b[0m\u001b[1;33m\u001b[0m\u001b[0m\n",
      "\u001b[1;32m~\\Dropbox\\Not Syncing\\gameClassPractice.py\u001b[0m in \u001b[0;36mplayGame\u001b[1;34m(self)\u001b[0m\n\u001b[0;32m    133\u001b[0m             \u001b[1;32mif\u001b[0m \u001b[0mself\u001b[0m\u001b[1;33m.\u001b[0m\u001b[0mnarrate\u001b[0m \u001b[1;33m==\u001b[0m \u001b[1;34m\"True\"\u001b[0m\u001b[1;33m:\u001b[0m\u001b[1;33m\u001b[0m\u001b[0m\n\u001b[0;32m    134\u001b[0m                 \u001b[0mself\u001b[0m\u001b[1;33m.\u001b[0m\u001b[0mrequestGuess\u001b[0m\u001b[1;33m(\u001b[0m\u001b[1;33m)\u001b[0m\u001b[1;33m\u001b[0m\u001b[0m\n\u001b[1;32m--> 135\u001b[1;33m             \u001b[0mguess\u001b[0m \u001b[1;33m=\u001b[0m \u001b[0mself\u001b[0m\u001b[1;33m.\u001b[0m\u001b[0mguess\u001b[0m\u001b[1;33m(\u001b[0m\u001b[0mself\u001b[0m\u001b[1;33m.\u001b[0m\u001b[0mlower_bound\u001b[0m\u001b[1;33m,\u001b[0m \u001b[0mself\u001b[0m\u001b[1;33m.\u001b[0m\u001b[0mupper_bound\u001b[0m\u001b[1;33m)\u001b[0m\u001b[1;33m\u001b[0m\u001b[0m\n\u001b[0m\u001b[0;32m    136\u001b[0m             \u001b[1;32mif\u001b[0m \u001b[0mself\u001b[0m\u001b[1;33m.\u001b[0m\u001b[0mnarrate\u001b[0m \u001b[1;33m==\u001b[0m \u001b[1;34m\"True\"\u001b[0m \u001b[1;32mand\u001b[0m \u001b[0mself\u001b[0m\u001b[1;33m.\u001b[0m\u001b[0mmethod\u001b[0m \u001b[1;33m!=\u001b[0m \u001b[1;34m\"human\"\u001b[0m\u001b[1;33m:\u001b[0m\u001b[1;33m\u001b[0m\u001b[0m\n\u001b[0;32m    137\u001b[0m                 \u001b[0mprint\u001b[0m\u001b[1;33m(\u001b[0m\u001b[0mguess\u001b[0m\u001b[1;33m)\u001b[0m\u001b[1;33m\u001b[0m\u001b[0m\n",
      "\u001b[1;32m~\\Dropbox\\Not Syncing\\gameClassPractice.py\u001b[0m in \u001b[0;36mguess\u001b[1;34m(self, lower_bound, upper_bound)\u001b[0m\n\u001b[0;32m    109\u001b[0m             \u001b[1;32mif\u001b[0m \u001b[0mnguesses\u001b[0m \u001b[1;33m<\u001b[0m \u001b[0mlen\u001b[0m\u001b[1;33m(\u001b[0m\u001b[0mself\u001b[0m\u001b[1;33m.\u001b[0m\u001b[0mmethod\u001b[0m\u001b[1;33m)\u001b[0m\u001b[1;33m:\u001b[0m \u001b[1;31m# does method have any guesses left?\u001b[0m\u001b[1;33m\u001b[0m\u001b[0m\n\u001b[0;32m    110\u001b[0m                 \u001b[0mri\u001b[0m \u001b[1;33m=\u001b[0m \u001b[0mself\u001b[0m\u001b[1;33m.\u001b[0m\u001b[0mmethod\u001b[0m\u001b[1;33m[\u001b[0m\u001b[0mnguesses\u001b[0m\u001b[1;33m]\u001b[0m  \u001b[1;31m# current split ratio\u001b[0m\u001b[1;33m\u001b[0m\u001b[0m\n\u001b[1;32m--> 111\u001b[1;33m                 \u001b[0mguess\u001b[0m \u001b[1;33m=\u001b[0m \u001b[0mint\u001b[0m\u001b[1;33m(\u001b[0m\u001b[0mround\u001b[0m\u001b[1;33m(\u001b[0m\u001b[0mlower_bound\u001b[0m \u001b[1;33m+\u001b[0m \u001b[0mri\u001b[0m\u001b[1;33m*\u001b[0m\u001b[1;33m(\u001b[0m\u001b[0mupper_bound\u001b[0m \u001b[1;33m-\u001b[0m \u001b[0mlower_bound\u001b[0m\u001b[1;33m)\u001b[0m\u001b[1;33m)\u001b[0m\u001b[1;33m)\u001b[0m\u001b[1;33m\u001b[0m\u001b[0m\n\u001b[0m\u001b[0;32m    112\u001b[0m                 \u001b[0mself\u001b[0m\u001b[1;33m.\u001b[0m\u001b[0mguesses\u001b[0m\u001b[1;33m.\u001b[0m\u001b[0mappend\u001b[0m\u001b[1;33m(\u001b[0m\u001b[0mguess\u001b[0m\u001b[1;33m)\u001b[0m\u001b[1;33m\u001b[0m\u001b[0m\n\u001b[0;32m    113\u001b[0m                 \u001b[1;32mreturn\u001b[0m \u001b[0mguess\u001b[0m\u001b[1;33m\u001b[0m\u001b[0m\n",
      "\u001b[1;31mTypeError\u001b[0m: type numpy.ndarray doesn't define __round__ method"
     ]
    }
   ],
   "source": [
    "game = HOL.Game()\n",
    "game.narrate = \"False\" # this turns off the commentary\n",
    "\n",
    "Ngenerations = 10\n",
    "Nrepeats = 10\n",
    "Npop = 10\n",
    "methods = []\n",
    "for i in range(Npop):\n",
    "    methods.append(np.random.rand(1,20))\n",
    "    \n",
    "nguesses = np.zeros((Npop, Nrepeats))  # store our guesses here.\n",
    "\n",
    "for ngen in range(Ngenerations):\n",
    "    # play game with methods\n",
    "    for method_number, method in enumerate(methods):\n",
    "        game.method = method\n",
    "        for i in range(Nrepeats):\n",
    "            game.playGame()\n",
    "            nguesses[ngen, method_number, i] = len(game.guesses) \n",
    "            game.reset()\n",
    "    # evolve\n",
    "\n",
    "mean_nguesses = np.mean(nguesses, 2)"
   ]
  },
  {
   "cell_type": "code",
   "execution_count": null,
   "metadata": {},
   "outputs": [],
   "source": [
    "type(np.random.rand(1,2))"
   ]
  },
  {
   "cell_type": "code",
   "execution_count": null,
   "metadata": {},
   "outputs": [],
   "source": [
    "# show method improving from random to bifurcate. "
   ]
  }
 ],
 "metadata": {
  "kernelspec": {
   "display_name": "Python 3",
   "language": "python",
   "name": "python3"
  },
  "language_info": {
   "codemirror_mode": {
    "name": "ipython",
    "version": 3
   },
   "file_extension": ".py",
   "mimetype": "text/x-python",
   "name": "python",
   "nbconvert_exporter": "python",
   "pygments_lexer": "ipython3",
   "version": "3.6.4"
  }
 },
 "nbformat": 4,
 "nbformat_minor": 2
}
