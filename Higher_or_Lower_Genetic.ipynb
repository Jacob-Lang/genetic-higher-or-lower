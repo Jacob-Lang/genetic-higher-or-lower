{
 "cells": [
  {
   "cell_type": "markdown",
   "metadata": {},
   "source": [
    "# Higher or Lower: Genetic Algorithm\n",
    "\n",
    "\"Guess a number between 1 and 100\" ... \"no it's higher than that\" ... \"no it's lower than that\" ... \"yes you got it!\"\n",
    "We all know this game of higher or lower and it's pretty easy to work out the best strategy for guessing the number as quickly as possible - namely you want to guess halway between the bounds each time. Here we'll see if we can get a computer to work that out for itself... using a genetic algorithms.\n"
   ]
  },
  {
   "cell_type": "code",
   "execution_count": 1,
   "metadata": {},
   "outputs": [],
   "source": [
    "# First we download some dependencies\n",
    "import gameClass as HOL\n",
    "import matplotlib.pyplot as plt\n",
    "import numpy as np"
   ]
  },
  {
   "cell_type": "markdown",
   "metadata": {},
   "source": [
    "## The non-genetic approach\n",
    "\n",
    "It is not too hard to write a programme that will play the game for us. (I have done this in the gameClass.py .) We just have to tell it to choose a number between the current bounds. Here are three methods: \n",
    "1. Choose a number randomly between the bounds - \"computer_random\"\n",
    "2. Choose a number halfway between the bounds - \"computer_bifurcate\"\n",
    "3. Choose the smallest number possible within the bounds - \"computer_bad\"\n",
    "\n",
    "Let's see how they cope:"
   ]
  },
  {
   "cell_type": "code",
   "execution_count": 2,
   "metadata": {
    "scrolled": false
   },
   "outputs": [
    {
     "name": "stdout",
     "output_type": "stream",
     "text": [
      "Pick a number between 1 and 100:\n",
      "41\n",
      "Nope. You need to go higher.\n",
      "Pick a number between 42 and 100:\n",
      "96\n",
      "Nope. You need to go lower.\n",
      "Pick a number between 42 and 95:\n",
      "55\n",
      "Nope. You need to go higher.\n",
      "Pick a number between 56 and 95:\n",
      "91\n",
      "Nope. You need to go higher.\n",
      "Pick a number between 92 and 95:\n",
      "92\n",
      "Nope. You need to go higher.\n",
      "Pick a number between 93 and 95:\n",
      "93\n",
      "Nope. You need to go higher.\n",
      "Pick a number between 94 and 95:\n",
      "94\n",
      "Nope. You need to go higher.\n",
      "Pick a number between 95 and 95:\n",
      "95\n",
      "YES! CONGRATULATIONS! THE NUMBER WAS  95\n",
      "You got the answer correct after 8 guesses.\n"
     ]
    }
   ],
   "source": [
    "game = HOL.Game()\n",
    "game.method = \"computer_random\"\n",
    "game.playGame()"
   ]
  },
  {
   "cell_type": "code",
   "execution_count": 3,
   "metadata": {},
   "outputs": [
    {
     "name": "stdout",
     "output_type": "stream",
     "text": [
      "Pick a number between 1 and 100:\n",
      "50\n",
      "Nope. You need to go lower.\n",
      "Pick a number between 1 and 49:\n",
      "25\n",
      "Nope. You need to go higher.\n",
      "Pick a number between 26 and 49:\n",
      "38\n",
      "Nope. You need to go higher.\n",
      "Pick a number between 39 and 49:\n",
      "44\n",
      "Nope. You need to go higher.\n",
      "Pick a number between 45 and 49:\n",
      "47\n",
      "YES! CONGRATULATIONS! THE NUMBER WAS  47\n",
      "You got the answer correct after 5 guesses.\n"
     ]
    }
   ],
   "source": [
    "game = HOL.Game()\n",
    "game.method = \"computer_bifurcate\"\n",
    "game.playGame()"
   ]
  },
  {
   "cell_type": "code",
   "execution_count": 4,
   "metadata": {},
   "outputs": [
    {
     "name": "stdout",
     "output_type": "stream",
     "text": [
      "Pick a number between 1 and 100:\n",
      "1\n",
      "Nope. You need to go higher.\n",
      "Pick a number between 2 and 100:\n",
      "2\n",
      "Nope. You need to go higher.\n",
      "Pick a number between 3 and 100:\n",
      "3\n",
      "Nope. You need to go higher.\n",
      "Pick a number between 4 and 100:\n",
      "4\n",
      "Nope. You need to go higher.\n",
      "Pick a number between 5 and 100:\n",
      "5\n",
      "Nope. You need to go higher.\n",
      "Pick a number between 6 and 100:\n",
      "6\n",
      "Nope. You need to go higher.\n",
      "Pick a number between 7 and 100:\n",
      "7\n",
      "Nope. You need to go higher.\n",
      "Pick a number between 8 and 100:\n",
      "8\n",
      "Nope. You need to go higher.\n",
      "Pick a number between 9 and 100:\n",
      "9\n",
      "Nope. You need to go higher.\n",
      "Pick a number between 10 and 100:\n",
      "10\n",
      "Nope. You need to go higher.\n",
      "Pick a number between 11 and 100:\n",
      "11\n",
      "Nope. You need to go higher.\n",
      "Pick a number between 12 and 100:\n",
      "12\n",
      "Nope. You need to go higher.\n",
      "Pick a number between 13 and 100:\n",
      "13\n",
      "Nope. You need to go higher.\n",
      "Pick a number between 14 and 100:\n",
      "14\n",
      "Nope. You need to go higher.\n",
      "Pick a number between 15 and 100:\n",
      "15\n",
      "Nope. You need to go higher.\n",
      "Pick a number between 16 and 100:\n",
      "16\n",
      "Nope. You need to go higher.\n",
      "Pick a number between 17 and 100:\n",
      "17\n",
      "Nope. You need to go higher.\n",
      "Pick a number between 18 and 100:\n",
      "18\n",
      "Nope. You need to go higher.\n",
      "Pick a number between 19 and 100:\n",
      "19\n",
      "Nope. You need to go higher.\n",
      "Pick a number between 20 and 100:\n",
      "20\n",
      "Nope. You need to go higher.\n",
      "Pick a number between 21 and 100:\n",
      "21\n",
      "Nope. You need to go higher.\n",
      "Pick a number between 22 and 100:\n",
      "22\n",
      "Nope. You need to go higher.\n",
      "Pick a number between 23 and 100:\n",
      "23\n",
      "Nope. You need to go higher.\n",
      "Pick a number between 24 and 100:\n",
      "24\n",
      "Nope. You need to go higher.\n",
      "Pick a number between 25 and 100:\n",
      "25\n",
      "Nope. You need to go higher.\n",
      "Pick a number between 26 and 100:\n",
      "26\n",
      "Nope. You need to go higher.\n",
      "Pick a number between 27 and 100:\n",
      "27\n",
      "Nope. You need to go higher.\n",
      "Pick a number between 28 and 100:\n",
      "28\n",
      "Nope. You need to go higher.\n",
      "Pick a number between 29 and 100:\n",
      "29\n",
      "Nope. You need to go higher.\n",
      "Pick a number between 30 and 100:\n",
      "30\n",
      "Nope. You need to go higher.\n",
      "Pick a number between 31 and 100:\n",
      "31\n",
      "Nope. You need to go higher.\n",
      "Pick a number between 32 and 100:\n",
      "32\n",
      "Nope. You need to go higher.\n",
      "Pick a number between 33 and 100:\n",
      "33\n",
      "Nope. You need to go higher.\n",
      "Pick a number between 34 and 100:\n",
      "34\n",
      "Nope. You need to go higher.\n",
      "Pick a number between 35 and 100:\n",
      "35\n",
      "Nope. You need to go higher.\n",
      "Pick a number between 36 and 100:\n",
      "36\n",
      "Nope. You need to go higher.\n",
      "Pick a number between 37 and 100:\n",
      "37\n",
      "Nope. You need to go higher.\n",
      "Pick a number between 38 and 100:\n",
      "38\n",
      "Nope. You need to go higher.\n",
      "Pick a number between 39 and 100:\n",
      "39\n",
      "Nope. You need to go higher.\n",
      "Pick a number between 40 and 100:\n",
      "40\n",
      "Nope. You need to go higher.\n",
      "Pick a number between 41 and 100:\n",
      "41\n",
      "Nope. You need to go higher.\n",
      "Pick a number between 42 and 100:\n",
      "42\n",
      "Nope. You need to go higher.\n",
      "Pick a number between 43 and 100:\n",
      "43\n",
      "Nope. You need to go higher.\n",
      "Pick a number between 44 and 100:\n",
      "44\n",
      "Nope. You need to go higher.\n",
      "Pick a number between 45 and 100:\n",
      "45\n",
      "Nope. You need to go higher.\n",
      "Pick a number between 46 and 100:\n",
      "46\n",
      "Nope. You need to go higher.\n",
      "Pick a number between 47 and 100:\n",
      "47\n",
      "Nope. You need to go higher.\n",
      "Pick a number between 48 and 100:\n",
      "48\n",
      "Nope. You need to go higher.\n",
      "Pick a number between 49 and 100:\n",
      "49\n",
      "Nope. You need to go higher.\n",
      "Pick a number between 50 and 100:\n",
      "50\n",
      "Nope. You need to go higher.\n",
      "Pick a number between 51 and 100:\n",
      "51\n",
      "Nope. You need to go higher.\n",
      "Pick a number between 52 and 100:\n",
      "52\n",
      "Nope. You need to go higher.\n",
      "Pick a number between 53 and 100:\n",
      "53\n",
      "Nope. You need to go higher.\n",
      "Pick a number between 54 and 100:\n",
      "54\n",
      "Nope. You need to go higher.\n",
      "Pick a number between 55 and 100:\n",
      "55\n",
      "Nope. You need to go higher.\n",
      "Pick a number between 56 and 100:\n",
      "56\n",
      "Nope. You need to go higher.\n",
      "Pick a number between 57 and 100:\n",
      "57\n",
      "Nope. You need to go higher.\n",
      "Pick a number between 58 and 100:\n",
      "58\n",
      "Nope. You need to go higher.\n",
      "Pick a number between 59 and 100:\n",
      "59\n",
      "Nope. You need to go higher.\n",
      "Pick a number between 60 and 100:\n",
      "60\n",
      "Nope. You need to go higher.\n",
      "Pick a number between 61 and 100:\n",
      "61\n",
      "Nope. You need to go higher.\n",
      "Pick a number between 62 and 100:\n",
      "62\n",
      "Nope. You need to go higher.\n",
      "Pick a number between 63 and 100:\n",
      "63\n",
      "Nope. You need to go higher.\n",
      "Pick a number between 64 and 100:\n",
      "64\n",
      "Nope. You need to go higher.\n",
      "Pick a number between 65 and 100:\n",
      "65\n",
      "Nope. You need to go higher.\n",
      "Pick a number between 66 and 100:\n",
      "66\n",
      "Nope. You need to go higher.\n",
      "Pick a number between 67 and 100:\n",
      "67\n",
      "Nope. You need to go higher.\n",
      "Pick a number between 68 and 100:\n",
      "68\n",
      "Nope. You need to go higher.\n",
      "Pick a number between 69 and 100:\n",
      "69\n",
      "Nope. You need to go higher.\n",
      "Pick a number between 70 and 100:\n",
      "70\n",
      "Nope. You need to go higher.\n",
      "Pick a number between 71 and 100:\n",
      "71\n",
      "Nope. You need to go higher.\n",
      "Pick a number between 72 and 100:\n",
      "72\n",
      "Nope. You need to go higher.\n",
      "Pick a number between 73 and 100:\n",
      "73\n",
      "Nope. You need to go higher.\n",
      "Pick a number between 74 and 100:\n",
      "74\n",
      "Nope. You need to go higher.\n",
      "Pick a number between 75 and 100:\n",
      "75\n",
      "Nope. You need to go higher.\n",
      "Pick a number between 76 and 100:\n",
      "76\n",
      "Nope. You need to go higher.\n",
      "Pick a number between 77 and 100:\n",
      "77\n",
      "Nope. You need to go higher.\n",
      "Pick a number between 78 and 100:\n",
      "78\n",
      "Nope. You need to go higher.\n",
      "Pick a number between 79 and 100:\n",
      "79\n",
      "Nope. You need to go higher.\n",
      "Pick a number between 80 and 100:\n",
      "80\n",
      "Nope. You need to go higher.\n",
      "Pick a number between 81 and 100:\n",
      "81\n",
      "Nope. You need to go higher.\n",
      "Pick a number between 82 and 100:\n",
      "82\n",
      "Nope. You need to go higher.\n",
      "Pick a number between 83 and 100:\n",
      "83\n",
      "Nope. You need to go higher.\n",
      "Pick a number between 84 and 100:\n",
      "84\n",
      "YES! CONGRATULATIONS! THE NUMBER WAS  84\n",
      "You got the answer correct after 84 guesses.\n"
     ]
    }
   ],
   "source": [
    "game = HOL.Game()\n",
    "game.method = \"computer_bad\"\n",
    "game.playGame()"
   ]
  },
  {
   "cell_type": "markdown",
   "metadata": {},
   "source": [
    "How did they do? Lets get the computer to play the game many times with each method and look at some statistics. "
   ]
  },
  {
   "cell_type": "code",
   "execution_count": 5,
   "metadata": {},
   "outputs": [],
   "source": [
    "# play the game many times with each method.store no. guesses to win. \n",
    "game = HOL.Game()\n",
    "game.narrate = \"False\" # this turns off the commentary\n",
    "\n",
    "Nrepeats = 100\n",
    "methods = [\"computer_random\", \"computer_bifurcate\", \"computer_bad\"]\n",
    "nguesses = np.zeros((len(methods), Nrepeats))  # store our guesses here.\n",
    "\n",
    "\n",
    "for method_number, method in enumerate(methods):\n",
    "    game.method = method\n",
    "    for i in range(Nrepeats):\n",
    "        game.playGame()\n",
    "        nguesses[method_number, i] = len(game.guesses) \n",
    "        game.reset()\n",
    "\n",
    "mean_nguesses = np.mean(nguesses, 1)"
   ]
  },
  {
   "cell_type": "code",
   "execution_count": 6,
   "metadata": {},
   "outputs": [
    {
     "data": {
      "image/png": "[encoded data removed]",
      "text/plain": [
       "<Figure size 432x288 with 1 Axes>"
      ]
     },
     "metadata": {
      "needs_background": "light"
     },
     "output_type": "display_data"
    }
   ],
   "source": [
    "# plot the number of guesses it took each method as a histogram. i.e. how many times did each method guess correctly after 1 guess, 2 guesses, 3guesses etc.\n",
    "colors = ['r', 'b', 'g']\n",
    "for method_number in range(len(methods)):\n",
    "    plt.hist(nguesses[method_number,  :], bins = range(20), alpha = 0.5, label = methods[method_number], color  = colors[method_number])\n",
    "    plt.plot([mean_nguesses[method_number], mean_nguesses[method_number]], [0, Nrepeats/2], color  = colors[method_number], linestyle = '--', linewidth=2)\n",
    "plt.legend()\n",
    "plt.title(\"Histogram of number of guesses taken after \" + str(Nrepeats) +  \" plays.\")\n",
    "plt.xlabel(\"Number of guesses taken\")\n",
    "plt.ylabel(\"Count\")\n",
    "plt.xlim([0,20])\n",
    "plt.show()"
   ]
  },
  {
   "cell_type": "markdown",
   "metadata": {},
   "source": [
    "Here we have played the game many times with each method and counted how many guesses it took until the computer guessed correctly. This is plotted in the histogram above. The dashed line represents the average (mean) number of guesses it took.\n",
    "\n",
    "The different methods have different results with the bifurcation method clearly outperfoming the other two methods. The \"computer_bad\" method is so poor the mean number of guesses doesn't show on the plot. Now let's use a genetic algorithm to let the computer decide a method for itself.\n",
    "\n",
    "## Genetic approach\n",
    "\n",
    "Genetic algorithms... \n",
    "\n",
    "Here we define a single \"method\" by a number $r$ between 0 and 1. This tells the computer where to guess between the bounds. When asked to choose a number between the upper bound, $u$, and the lower bound, $l$, the computer will choose $$\\text{guess}_i = l + r_i(u - l).$$\n",
    "\n",
    "Our generation size will be 100 and we create our first generation simply by choosing 100 random numbers between 0 and 1. "
   ]
  },
  {
   "cell_type": "code",
   "execution_count": 7,
   "metadata": {},
   "outputs": [],
   "source": [
    "# number of methods in each generation, i.e. population size\n",
    "Npop = 100\n",
    "\n",
    "methods = np.random.rand(Npop)"
   ]
  },
  {
   "cell_type": "markdown",
   "metadata": {},
   "source": [
    "We run the game 100 times  with each \"method\" and define the fitness of each method by the mean number of guesses it took to  guess the number correctly. The lower the better!"
   ]
  },
  {
   "cell_type": "code",
   "execution_count": 8,
   "metadata": {},
   "outputs": [],
   "source": [
    "Nrepeats = 100\n",
    "Ngens = 10 # number of generations we'll want\n",
    "nguesses = np.zeros((Ngens, Npop, Nrepeats))  # store the number-of-guesses-taken here.\n",
    "mean_nguesses = np.zeros((Ngens, Npop)) # store mean number-of-guesses here\n",
    "\n",
    "game = HOL.Game()\n",
    "game.narrate = \"False\" # this turns off the commentary\n",
    "\n",
    "# play the game many times for each method\n",
    "for method_number, method in enumerate(methods):\n",
    "    game.method = method\n",
    "    for i in range(Nrepeats):\n",
    "        game.playGame()\n",
    "        nguesses[0, method_number, i] = len(game.guesses) \n",
    "        game.reset()\n",
    "        \n",
    "# average to find mean number of guesses for each method\n",
    "\n",
    "mean_nguesses[0, :] = np.mean(nguesses[0, :, :], 1)\n",
    "\n",
    "# order by lowest mean_nguesses first\n",
    "\n",
    "order = mean_nguesses[0, :].argsort()\n",
    "mean_nguesses[0, :] = mean_nguesses[0, order]\n",
    "methods = methods[order]"
   ]
  },
  {
   "cell_type": "markdown",
   "metadata": {},
   "source": [
    "Let's have a look at the best and worst methods in this first generation:"
   ]
  },
  {
   "cell_type": "code",
   "execution_count": 9,
   "metadata": {},
   "outputs": [
    {
     "name": "stdout",
     "output_type": "stream",
     "text": [
      "The BEST method in this generation guesses with the ratio r = 0.429627871239988  which guesses correctly after an average of  5.56  guesses.\n",
      "The WORST method in this generation guesses with the ratio r =  0.0011539240017819363  which guesses correctly after an average of  50.02  guesses.\n"
     ]
    }
   ],
   "source": [
    "# best\n",
    "print('The BEST method in this generation guesses with the ratio r =', str(methods[0]),\n",
    "      ' which guesses correctly after an average of ', str(mean_nguesses[0, 0]), ' guesses.')\n",
    "\n",
    "# worst\n",
    "print('The WORST method in this generation guesses with the ratio r = ', str(methods[-1]),\n",
    "      ' which guesses correctly after an average of ', str(mean_nguesses[0, -1]), ' guesses.')"
   ]
  },
  {
   "cell_type": "markdown",
   "metadata": {},
   "source": [
    "So as we would expect guessing a number about halfway between the bounds is a better tactic. Now let's create a new generation... EVOLVE!\n",
    "\n",
    "Here we will use a VERY simple method for obtaining a new generation: Take the best method from the generation and calculate the mean between itself and every other method in the generation. "
   ]
  },
  {
   "cell_type": "code",
   "execution_count": 10,
   "metadata": {},
   "outputs": [],
   "source": [
    "# add new generation to methods\n",
    "methods = np.vstack([methods, np.zeros((1, Npop))])\n",
    "for i in range(Npop):\n",
    "    methods[1, i] = (methods[0, 0] + methods[0, i])/2"
   ]
  },
  {
   "cell_type": "markdown",
   "metadata": {},
   "source": [
    "Now we have our new generation we can start repeating the process. Let's create 10 generations in total. "
   ]
  },
  {
   "cell_type": "code",
   "execution_count": 11,
   "metadata": {},
   "outputs": [],
   "source": [
    "for ngen in range(1, 10):\n",
    "    # play the game many times for each method in generation\n",
    "    for method_number, method in enumerate(methods[ngen, :]):\n",
    "        game.method = method\n",
    "        for i in range(Nrepeats):\n",
    "            game.playGame()\n",
    "            nguesses[ngen, method_number, i] = len(game.guesses) \n",
    "            game.reset()\n",
    "\n",
    "    # average to find mean number of guesses for each method\n",
    "\n",
    "    mean_nguesses[ngen, :] = np.mean(nguesses[ngen, :, :], 1)\n",
    "\n",
    "    # order by lowest mean_nguesses first\n",
    "\n",
    "    order = mean_nguesses[ngen, :].argsort()\n",
    "    mean_nguesses[ngen, :] = mean_nguesses[ngen, order]\n",
    "    methods[ngen, :] = methods[ngen, order]\n",
    "    \n",
    "    # add new generation to methods\n",
    "    methods = np.vstack([methods, np.zeros((1, Npop))])\n",
    "    for i in range(Npop):\n",
    "        methods[ngen + 1, i] = (methods[ngen, 0] + methods[ngen, i])/2"
   ]
  },
  {
   "cell_type": "markdown",
   "metadata": {},
   "source": [
    "Now we have our generations. Let's look at the best method in each generation:"
   ]
  },
  {
   "cell_type": "code",
   "execution_count": 12,
   "metadata": {},
   "outputs": [
    {
     "data": {
      "image/png": "[encoded data removed]",
      "text/plain": [
       "<Figure size 432x288 with 1 Axes>"
      ]
     },
     "metadata": {
      "needs_background": "light"
     },
     "output_type": "display_data"
    },
    {
     "data": {
      "image/png": "[encoded data removed]",
      "text/plain": [
       "<Figure size 432x288 with 1 Axes>"
      ]
     },
     "metadata": {
      "needs_background": "light"
     },
     "output_type": "display_data"
    }
   ],
   "source": [
    "plt.plot(np.arange(Ngens), methods[0:10, 0],  linewidth=2)\n",
    "plt.plot(np.arange(Ngens), methods[0:10, -1],  linewidth=2)\n",
    "plt.title(\"Evolution of best and worst method in each generation\")\n",
    "plt.xlabel(\"Generation number\")\n",
    "plt.ylabel(\"Method\")\n",
    "plt.ylim([0,1])\n",
    "plt.show()\n",
    "\n",
    "plt.plot(np.arange(Ngens), mean_nguesses[0:10, 0],  linewidth=2)\n",
    "plt.plot(np.arange(Ngens), mean_nguesses[0:10, -1],  linewidth=2)\n",
    "plt.title(\"Evolution of mean number of guesses for the best and worst method in each generation\")\n",
    "plt.xlabel(\"Generation number\")\n",
    "plt.ylabel(\"Method\")\n",
    "plt.show()"
   ]
  },
  {
   "cell_type": "markdown",
   "metadata": {},
   "source": [
    "Well there you go. The algorithm very quickly settles to r = 0.5 as the best method.\n",
    "\n",
    "As we are only optimising a single parameter, r. So even just randomly searching the parameter space (which is what happens when we create our first generation) can very quickly find the best answer. \n",
    "\n",
    "Problems with larger parameter spaces are where genetic algorithms and machine learning comes in handy. \n",
    "\n",
    "Further problems with the genetic algorithm presented here is the evolution step. What if our initial generation only made guesses between 0 and 0.25 say. The pair averaging process would never create guesses outside of this range. To explore the whole parameter space a random shift (mutations) should be included. "
   ]
  }
 ],
 "metadata": {
  "kernelspec": {
   "display_name": "Python 3",
   "language": "python",
   "name": "python3"
  },
  "language_info": {
   "codemirror_mode": {
    "name": "ipython",
    "version": 3
   },
   "file_extension": ".py",
   "mimetype": "text/x-python",
   "name": "python",
   "nbconvert_exporter": "python",
   "pygments_lexer": "ipython3",
   "version": "3.6.6"
  }
 },
 "nbformat": 4,
 "nbformat_minor": 2
}
