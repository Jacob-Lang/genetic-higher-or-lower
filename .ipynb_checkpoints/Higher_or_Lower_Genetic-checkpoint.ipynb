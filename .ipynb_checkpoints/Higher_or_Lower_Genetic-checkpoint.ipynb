{
 "cells": [
  {
   "cell_type": "markdown",
   "metadata": {},
   "source": [
    "# Higher or Lower: Genetic Algorithm\n",
    "\n",
    "\"Guess a number between 1 and 100\" ... \"no it's higher than that\" ... \"no it's lower than that\" ... \"yes you got it!\"\n",
    "We all know this game of higher or lower and it's pretty easy to work out the best strategy for guessing the number as quickly as possible - namely you want to guess halway between the bounds each time. Here we'll see if we can get a computer to work that out for itself... using a genetic algorithms.\n"
   ]
  },
  {
   "cell_type": "code",
   "execution_count": 1,
   "metadata": {},
   "outputs": [],
   "source": [
    "# First we download some dependencies\n",
    "import gameClassPractice as HOL\n",
    "import matplotlib.pyplot as plt\n",
    "import numpy as np"
   ]
  },
  {
   "cell_type": "markdown",
   "metadata": {},
   "source": [
    "# The non-genetic approach\n",
    "\n",
    "It is not too hard to write a programme that will play the game for us. We just have to tell it to choose a number between the current bounds. Here are three methods: \n",
    "1. Choose a number randomly between the bounds - \"computer_random\"\n",
    "2. Choose a number halfway between the bounds - \"computer_bifurcate\"\n",
    "3. Choose the smallest number possible within the bounds - \"computer_bad\"\n",
    "\n",
    "Let's see how they cope:"
   ]
  },
  {
   "cell_type": "code",
   "execution_count": 2,
   "metadata": {
    "scrolled": true
   },
   "outputs": [
    {
     "name": "stdout",
     "output_type": "stream",
     "text": [
      "Pick a number between 1 and 100:\n",
      "58\n",
      "Nope. You need to go lower.\n",
      "Pick a number between 1 and 57:\n",
      "16\n",
      "Nope. You need to go higher.\n",
      "Pick a number between 17 and 57:\n",
      "52\n",
      "Nope. You need to go lower.\n",
      "Pick a number between 17 and 51:\n",
      "49\n",
      "Nope. You need to go lower.\n",
      "Pick a number between 17 and 48:\n",
      "46\n",
      "Nope. You need to go lower.\n",
      "Pick a number between 17 and 45:\n",
      "18\n",
      "Nope. You need to go higher.\n",
      "Pick a number between 19 and 45:\n",
      "24\n",
      "Nope. You need to go higher.\n",
      "Pick a number between 25 and 45:\n",
      "36\n",
      "Nope. You need to go lower.\n",
      "Pick a number between 25 and 35:\n",
      "32\n",
      "Nope. You need to go lower.\n",
      "Pick a number between 25 and 31:\n",
      "31\n",
      "YES! CONGRATULATIONS! THE NUMBER WAS  31\n",
      "You got the answer correct after 10 guesses.\n"
     ]
    }
   ],
   "source": [
    "game = HOL.Game()\n",
    "game.method = \"computer_random\"\n",
    "game.playGame()"
   ]
  },
  {
   "cell_type": "code",
   "execution_count": 3,
   "metadata": {},
   "outputs": [
    {
     "name": "stdout",
     "output_type": "stream",
     "text": [
      "Pick a number between 1 and 100:\n",
      "50\n",
      "Nope. You need to go higher.\n",
      "Pick a number between 51 and 100:\n",
      "76\n",
      "Nope. You need to go lower.\n",
      "Pick a number between 51 and 75:\n",
      "63\n",
      "Nope. You need to go higher.\n",
      "Pick a number between 64 and 75:\n",
      "70\n",
      "Nope. You need to go higher.\n",
      "Pick a number between 71 and 75:\n",
      "73\n",
      "Nope. You need to go higher.\n",
      "Pick a number between 74 and 75:\n",
      "74\n",
      "YES! CONGRATULATIONS! THE NUMBER WAS  74\n",
      "You got the answer correct after 6 guesses.\n"
     ]
    }
   ],
   "source": [
    "game = HOL.Game()\n",
    "game.method = \"computer_bifurcate\"\n",
    "game.playGame()"
   ]
  },
  {
   "cell_type": "code",
   "execution_count": 4,
   "metadata": {},
   "outputs": [
    {
     "name": "stdout",
     "output_type": "stream",
     "text": [
      "Pick a number between 1 and 100:\n",
      "1\n",
      "Nope. You need to go higher.\n",
      "Pick a number between 2 and 100:\n",
      "2\n",
      "Nope. You need to go higher.\n",
      "Pick a number between 3 and 100:\n",
      "3\n",
      "YES! CONGRATULATIONS! THE NUMBER WAS  3\n",
      "You got the answer correct after 3 guesses.\n"
     ]
    }
   ],
   "source": [
    "game = HOL.Game()\n",
    "game.method = \"computer_bad\"\n",
    "game.playGame()"
   ]
  },
  {
   "cell_type": "markdown",
   "metadata": {},
   "source": [
    "How did they do? Lets get the computer to play the game many times with each method and look at some statistics. "
   ]
  },
  {
   "cell_type": "code",
   "execution_count": 5,
   "metadata": {},
   "outputs": [],
   "source": [
    "# play the game many times with each method.store no. guesses to win. \n",
    "game = HOL.Game()\n",
    "game.narrate = \"False\" # this turns off the commentary\n",
    "\n",
    "Nrepeats = 100\n",
    "methods = [\"computer_random\", \"computer_bifurcate\", \"computer_bad\"]\n",
    "nguesses = np.zeros((len(methods), Nrepeats))  # store our guesses here.\n",
    "\n",
    "\n",
    "for method_number, method in enumerate(methods):\n",
    "    game.method = method\n",
    "    for i in range(Nrepeats):\n",
    "        game.playGame()\n",
    "        nguesses[method_number, i] = len(game.guesses) \n",
    "        game.reset()\n",
    "\n",
    "mean_nguesses = np.mean(nguesses, 1)"
   ]
  },
  {
   "cell_type": "code",
   "execution_count": 6,
   "metadata": {},
   "outputs": [
    {
     "data": {
      "image/png": "[encoded data removed]",
      "text/plain": [
       "<matplotlib.figure.Figure at 0x21cf704f320>"
      ]
     },
     "metadata": {},
     "output_type": "display_data"
    }
   ],
   "source": [
    "# plot the number of guesses it took each method as a histogram. i.e. how many times did each method guess correctly after 1 guess, 2 guesses, 3guesses etc.\n",
    "colors = ['r', 'b', 'g']\n",
    "for method_number in range(len(methods)):\n",
    "    plt.hist(nguesses[method_number,  :], bins = range(20), alpha = 0.5, label = methods[method_number], color  = colors[method_number])\n",
    "    plt.plot([mean_nguesses[method_number], mean_nguesses[method_number]], [0, Nrepeats/2], color  = colors[method_number], linestyle = '--', linewidth=2)\n",
    "plt.legend()\n",
    "plt.title(\"Histogram of number of guesses taken after \" + str(Nrepeats) +  \" plays.\")\n",
    "plt.xlabel(\"Number of guesses taken\")\n",
    "plt.ylabel(\"Count\")\n",
    "plt.xlim([0,20])\n",
    "plt.show()"
   ]
  },
  {
   "cell_type": "markdown",
   "metadata": {},
   "source": [
    "Here we have played the game many times with each method and counted how many guesses it took until the computer guessed correctly. This is plotted in the histogram above. The dashed line represents the average (mean) number of guesses it took.\n",
    "\n",
    "The different methods have different results with the bifurcation method clearly outperfoming the other two methods. The \"computer_bad\" method is so poor the mean number of guesses doesn't show on the plot. Now let's use a genetic algorithm to let the computer decide a method for itself.\n",
    "\n",
    "## Genetic approach\n",
    "\n",
    "Genetic algorithms... \n",
    "\n",
    "Here we define a single \"method\" by a number $r$ between 0 and 1. This tells the computer where to guess between the bounds. When asked to choose a number between the upper bound, $u$, and the lower bound, $l$, the computer will choose $$\\text{guess}_i = l + r_i(u - l).$$\n",
    "\n",
    "Our generation size will be 100 and we create our first generation simply by choosing 100 random numbers between 0 and 1. "
   ]
  },
  {
   "cell_type": "code",
   "execution_count": 7,
   "metadata": {},
   "outputs": [],
   "source": [
    "# number of methods in each generation, i.e. population size\n",
    "Npop = 100\n",
    "\n",
    "methods = np.random.rand(Npop)"
   ]
  },
  {
   "cell_type": "markdown",
   "metadata": {},
   "source": [
    "We run the game 100 times  with each \"method\" and define the fitness of each method by the mean number of guesses it took to  guess the number correctly. The lower the better!"
   ]
  },
  {
   "cell_type": "code",
   "execution_count": 44,
   "metadata": {},
   "outputs": [],
   "source": [
    "Nrepeats = 100\n",
    "Ngens = 10 # number of generations we'll want\n",
    "nguesses = np.zeros((Ngens, Npop, Nrepeats))  # store the number-of-guesses-taken here.\n",
    "\n",
    "game = HOL.Game()\n",
    "game.narrate = \"False\" # this turns off the commentary\n",
    "\n",
    "# play the game many times for each method\n",
    "for method_number, method in enumerate(methods):\n",
    "    game.method = method\n",
    "    for i in range(Nrepeats):\n",
    "        game.playGame()\n",
    "        nguesses[0, method_number, i] = len(game.guesses) \n",
    "        game.reset()\n",
    "        \n",
    "# average to find mean number of guesses for each method\n",
    "\n",
    "mean_nguesses = np.mean(nguesses[0, :, :], 1)\n",
    "\n",
    "# order by lowest mean_nguesses first\n",
    "\n",
    "order = mean_nguesses.argsort()\n",
    "mean_nguesses = mean_nguesses[order]\n",
    "methods = methods[order]"
   ]
  },
  {
   "cell_type": "markdown",
   "metadata": {},
   "source": [
    "Let's have a look at the best and worst methods in this first generation:"
   ]
  },
  {
   "cell_type": "code",
   "execution_count": 50,
   "metadata": {},
   "outputs": [
    {
     "name": "stdout",
     "output_type": "stream",
     "text": [
      "The BEST method in this generation guesses with the ratio r = 0.4552489982632225  which guesses correctly after an average of  5.56  guesses.\n",
      "The WORST method in this generation guesses with the ratio r =  0.9972990047224968  which guesses correctly after an average of  51.1  guesses.\n"
     ]
    }
   ],
   "source": [
    "# best\n",
    "print('The BEST method in this generation guesses with the ratio r =', str(methods[0]),\n",
    "      ' which guesses correctly after an average of ', str(mean_nguesses[0]), ' guesses.')\n",
    "\n",
    "# worst\n",
    "print('The WORST method in this generation guesses with the ratio r = ', str(methods[-1]),\n",
    "      ' which guesses correctly after an average of ', str(mean_nguesses[-1]), ' guesses.')"
   ]
  },
  {
   "cell_type": "markdown",
   "metadata": {},
   "source": [
    "So as we would expect guessing a number about halfway between the bounds is a better tactic. Now let's create a new generation... EVOLVE!\n",
    "\n",
    "We choose the best methods from the generation and create the next generation by mating (averaging) between them.\n",
    "Let's choose the the best 13 methods and average between all the possible pairs. \n",
    "This will create 91 new methods so we'll then move 9 methods directly throught to the next generation to get an even 100. \n",
    "Finally we will mutate (shift slightly by a random number) a random 10 percent of the new generation. "
   ]
  },
  {
   "cell_type": "code",
   "execution_count": null,
   "metadata": {},
   "outputs": [],
   "source": [
    "parents = methods[0:12]\n"
   ]
  },
  {
   "cell_type": "code",
   "execution_count": 10,
   "metadata": {},
   "outputs": [
    {
     "name": "stdout",
     "output_type": "stream",
     "text": [
      "Pick a number between 1 and 100:\n"
     ]
    },
    {
     "ename": "TypeError",
     "evalue": "unsupported operand type(s) for +: 'int' and 'list'",
     "output_type": "error",
     "traceback": [
      "\u001b[1;31m---------------------------------------------------------------------------\u001b[0m",
      "\u001b[1;31mTypeError\u001b[0m                                 Traceback (most recent call last)",
      "\u001b[1;32m<ipython-input-10-54ca9ca36cf4>\u001b[0m in \u001b[0;36m<module>\u001b[1;34m()\u001b[0m\n\u001b[0;32m      1\u001b[0m \u001b[0mgame\u001b[0m \u001b[1;33m=\u001b[0m \u001b[0mHOL\u001b[0m\u001b[1;33m.\u001b[0m\u001b[0mGame\u001b[0m\u001b[1;33m(\u001b[0m\u001b[1;33m)\u001b[0m\u001b[1;33m\u001b[0m\u001b[0m\n\u001b[0;32m      2\u001b[0m \u001b[0mgame\u001b[0m\u001b[1;33m.\u001b[0m\u001b[0mmethod\u001b[0m \u001b[1;33m=\u001b[0m \u001b[1;33m[\u001b[0m\u001b[1;36m0.5\u001b[0m\u001b[1;33m,\u001b[0m \u001b[1;36m0.01\u001b[0m\u001b[1;33m,\u001b[0m \u001b[1;36m0.75\u001b[0m\u001b[1;33m]\u001b[0m\u001b[1;33m\u001b[0m\u001b[0m\n\u001b[1;32m----> 3\u001b[1;33m \u001b[0mgame\u001b[0m\u001b[1;33m.\u001b[0m\u001b[0mplayGame\u001b[0m\u001b[1;33m(\u001b[0m\u001b[1;33m)\u001b[0m\u001b[1;33m\u001b[0m\u001b[0m\n\u001b[0m",
      "\u001b[1;32m~\\Dropbox\\genetic-higher-or-lower\\gameClassPractice.py\u001b[0m in \u001b[0;36mplayGame\u001b[1;34m(self)\u001b[0m\n\u001b[0;32m    143\u001b[0m             \u001b[1;32mif\u001b[0m \u001b[0mself\u001b[0m\u001b[1;33m.\u001b[0m\u001b[0mnarrate\u001b[0m \u001b[1;33m==\u001b[0m \u001b[1;34m\"True\"\u001b[0m\u001b[1;33m:\u001b[0m\u001b[1;33m\u001b[0m\u001b[0m\n\u001b[0;32m    144\u001b[0m                 \u001b[0mself\u001b[0m\u001b[1;33m.\u001b[0m\u001b[0mrequestGuess\u001b[0m\u001b[1;33m(\u001b[0m\u001b[1;33m)\u001b[0m\u001b[1;33m\u001b[0m\u001b[0m\n\u001b[1;32m--> 145\u001b[1;33m             \u001b[0mguess\u001b[0m \u001b[1;33m=\u001b[0m \u001b[0mself\u001b[0m\u001b[1;33m.\u001b[0m\u001b[0mguess\u001b[0m\u001b[1;33m(\u001b[0m\u001b[0mself\u001b[0m\u001b[1;33m.\u001b[0m\u001b[0mlower_bound\u001b[0m\u001b[1;33m,\u001b[0m \u001b[0mself\u001b[0m\u001b[1;33m.\u001b[0m\u001b[0mupper_bound\u001b[0m\u001b[1;33m)\u001b[0m\u001b[1;33m\u001b[0m\u001b[0m\n\u001b[0m\u001b[0;32m    146\u001b[0m             \u001b[1;32mif\u001b[0m \u001b[0mself\u001b[0m\u001b[1;33m.\u001b[0m\u001b[0mnarrate\u001b[0m \u001b[1;33m==\u001b[0m \u001b[1;34m\"True\"\u001b[0m \u001b[1;32mand\u001b[0m \u001b[0mself\u001b[0m\u001b[1;33m.\u001b[0m\u001b[0mmethod\u001b[0m \u001b[1;33m!=\u001b[0m \u001b[1;34m\"human\"\u001b[0m\u001b[1;33m:\u001b[0m\u001b[1;33m\u001b[0m\u001b[0m\n\u001b[0;32m    147\u001b[0m                 \u001b[0mprint\u001b[0m\u001b[1;33m(\u001b[0m\u001b[0mguess\u001b[0m\u001b[1;33m)\u001b[0m\u001b[1;33m\u001b[0m\u001b[0m\n",
      "\u001b[1;32m~\\Dropbox\\genetic-higher-or-lower\\gameClassPractice.py\u001b[0m in \u001b[0;36mguess\u001b[1;34m(self, lower_bound, upper_bound)\u001b[0m\n\u001b[0;32m    110\u001b[0m         \u001b[1;32melif\u001b[0m \u001b[0mtype\u001b[0m\u001b[1;33m(\u001b[0m\u001b[0mself\u001b[0m\u001b[1;33m.\u001b[0m\u001b[0mmethod\u001b[0m\u001b[1;33m)\u001b[0m \u001b[1;33m!=\u001b[0m \u001b[0mstr\u001b[0m\u001b[1;33m:\u001b[0m\u001b[1;33m\u001b[0m\u001b[0m\n\u001b[0;32m    111\u001b[0m             \u001b[0mri\u001b[0m \u001b[1;33m=\u001b[0m \u001b[0mself\u001b[0m\u001b[1;33m.\u001b[0m\u001b[0mmethod\u001b[0m\u001b[1;33m\u001b[0m\u001b[0m\n\u001b[1;32m--> 112\u001b[1;33m             \u001b[0mguess\u001b[0m \u001b[1;33m=\u001b[0m \u001b[0mint\u001b[0m\u001b[1;33m(\u001b[0m\u001b[0mround\u001b[0m\u001b[1;33m(\u001b[0m\u001b[0mlower_bound\u001b[0m \u001b[1;33m+\u001b[0m \u001b[0mri\u001b[0m\u001b[1;33m*\u001b[0m\u001b[1;33m(\u001b[0m\u001b[0mupper_bound\u001b[0m \u001b[1;33m-\u001b[0m \u001b[0mlower_bound\u001b[0m\u001b[1;33m)\u001b[0m\u001b[1;33m)\u001b[0m\u001b[1;33m)\u001b[0m\u001b[1;33m\u001b[0m\u001b[0m\n\u001b[0m\u001b[0;32m    113\u001b[0m             \u001b[0mself\u001b[0m\u001b[1;33m.\u001b[0m\u001b[0mguesses\u001b[0m\u001b[1;33m.\u001b[0m\u001b[0mappend\u001b[0m\u001b[1;33m(\u001b[0m\u001b[0mguess\u001b[0m\u001b[1;33m)\u001b[0m\u001b[1;33m\u001b[0m\u001b[0m\n\u001b[0;32m    114\u001b[0m             \u001b[1;32mreturn\u001b[0m \u001b[0mguess\u001b[0m\u001b[1;33m\u001b[0m\u001b[0m\n",
      "\u001b[1;31mTypeError\u001b[0m: unsupported operand type(s) for +: 'int' and 'list'"
     ]
    }
   ],
   "source": [
    "game = HOL.Game()\n",
    "game.method = [0.5, 0.01, 0.75]\n",
    "game.playGame()"
   ]
  },
  {
   "cell_type": "markdown",
   "metadata": {},
   "source": [
    "When the method is out of guesses it quits the game. \n",
    "\n",
    "Clearly for the bifurcation method $r_i = 0.5,  \\  \\forall \\  i$ and for the random method $r_i$ is random. In our genetic algorithm we will start from the random method and see if it will evolve into the superior bifurcation method. Here are the steps:\n",
    "\n",
    "1. Our first generation of methods has a population size of 100 and each method in the population consists of a single random guess.\n",
    "2. We play the Higher or Lower game 100 times with each method and define the fitness of the method as the mean distance away from the target number -- here we expect guesses around $r_i = 0.5$ to do the best.\n",
    "3. We select the top 20 methods to proceed and evolve them into a subsequent generation of 100 methods. The evolution proceeds via:\n",
    "- mutating:  $r_i$ is multiplied by a random number x\n",
    "- growing/shrinking: the method gains or loses an element. \n",
    "- mating: two methods are spliced creating two offspring\n",
    "- survival: some methods proceed without change. \n",
    "4. The process is repeated with this new generation."
   ]
  },
  {
   "cell_type": "code",
   "execution_count": null,
   "metadata": {},
   "outputs": [],
   "source": [
    "game = HOL.Game()\n",
    "game.narrate = \"False\" # this turns off the commentary\n",
    "\n",
    "Ngenerations = 10\n",
    "Nrepeats = 10\n",
    "Npop = 10\n",
    "methods = []\n",
    "for i in range(Npop):\n",
    "    methods.append(np.random.rand(1,20))\n",
    "    \n",
    "nguesses = np.zeros((Npop, Nrepeats))  # store our guesses here.\n",
    "\n",
    "for ngen in range(Ngenerations):\n",
    "    # play game with methods\n",
    "    for method_number, method in enumerate(methods):\n",
    "        game.method = method\n",
    "        for i in range(Nrepeats):\n",
    "            game.playGame()\n",
    "            nguesses[ngen, method_number, i] = len(game.guesses) \n",
    "            game.reset()\n",
    "    # evolve\n",
    "\n",
    "mean_nguesses = np.mean(nguesses, 2)"
   ]
  },
  {
   "cell_type": "code",
   "execution_count": null,
   "metadata": {},
   "outputs": [],
   "source": [
    "type(np.random.rand(1,2))"
   ]
  },
  {
   "cell_type": "code",
   "execution_count": null,
   "metadata": {},
   "outputs": [],
   "source": [
    "# show method improving from random to bifurcate. "
   ]
  }
 ],
 "metadata": {
  "kernelspec": {
   "display_name": "Python 3",
   "language": "python",
   "name": "python3"
  },
  "language_info": {
   "codemirror_mode": {
    "name": "ipython",
    "version": 3
   },
   "file_extension": ".py",
   "mimetype": "text/x-python",
   "name": "python",
   "nbconvert_exporter": "python",
   "pygments_lexer": "ipython3",
   "version": "3.6.4"
  }
 },
 "nbformat": 4,
 "nbformat_minor": 2
}
